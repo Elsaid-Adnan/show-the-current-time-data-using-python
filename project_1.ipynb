{
 "cells": [
  {
   "cell_type": "markdown",
   "metadata": {},
   "source": [
    "project_1 --\n",
    "create rgb image 500*500 clock that show the current time hours,minutes,second\n",
    "and date of the day."
   ]
  },
  {
   "cell_type": "markdown",
   "metadata": {},
   "source": [
    "The first basic solution is better than the other in time cursor movement"
   ]
  },
  {
   "cell_type": "code",
   "execution_count": 3,
   "metadata": {},
   "outputs": [],
   "source": [
    "# library\n",
    "import cv2\n",
    "import numpy as np\n",
    "import math\n",
    "import datetime\n",
    "\n",
    "# image\n",
    "img = np.zeros((800, 800, 3), np.uint8)\n",
    "centerimg_x=int(800/2)\n",
    "centerimg_y=int(800/2)\n",
    "\n",
    "#  part of the clock\n",
    "cv2.circle(img, ( centerimg_x , centerimg_y ), 200, (255,0,0), 3)\n",
    "\n",
    "for i in range(1,360,6):\n",
    "    cv2.circle(img, ( int((centerimg_x+190*math.cos(math.radians(i)))),int((centerimg_y+190*math.sin(math.radians(i)))) ), 3 , (255,255,255), 1)\n",
    "for i in range(1,360,30): \n",
    "    cv2.circle(img, ( int((centerimg_x+200*math.cos(math.radians(i)))),int((centerimg_y+200*math.sin(math.radians(i)))) ), 4 , (255,255,0), 2)\n",
    "\n",
    "\n",
    "while 1: \n",
    "    img[0:120,0:330]=0\n",
    "\n",
    "    now = datetime.datetime.now()\n",
    "    \n",
    "    # text (Current date and time)\n",
    "    cv2.putText(img, f'Data : {now.date()}', (5, 50), cv2.FONT_HERSHEY_SIMPLEX, 1, (0, 255, 255), 2, cv2.FILLED)\n",
    "    cv2.putText(img, f'Time :{now.strftime(\"%H:%M:%S\")}', (5, 100), cv2.FONT_HERSHEY_SIMPLEX, 1, (0, 255, 255), 2, cv2.FILLED)  \n",
    "    \n",
    "    cv2.circle(img, ( centerimg_x , centerimg_y ), 185, (0,0,0), -1)\n",
    "    \n",
    "    # Another part of the clock\n",
    "    cv2.circle(img, ( centerimg_x , centerimg_y ), 5, (255,255,255), -1)  \n",
    "    cv2.line(img,( centerimg_x , centerimg_y ),( int((centerimg_x+150*math.cos(math.radians((now.second*6)-90)))),int((centerimg_y+150*math.sin(math.radians((now.second*6)-90))))),(255,255,0),1)\n",
    "    cv2.line(img,( centerimg_x , centerimg_y ),( int((centerimg_x+130*math.cos(math.radians((now.minute*60+now.second)/10-90)))),int((centerimg_y+130*math.sin(math.radians((now.minute*60+now.second)/10-90))))),(0,200,100),2)\n",
    "    cv2.line(img,( centerimg_x , centerimg_y ),( int((centerimg_x+120*math.cos(math.radians((now.hour*60+now.minute)/2-90)))),int((centerimg_y+120*math.sin(math.radians((now.hour*60+now.minute)/2-90)))) ),(0,90,70),3)\n",
    "    \n",
    "    cv2.imshow(\"image\",img[:,:,::-1])\n",
    "\n",
    "    k = cv2.waitKey(1)\n",
    "    if k == ord('q'):\n",
    "        break\n",
    "            \n",
    "\n",
    "cv2.destroyAllWindows()"
   ]
  },
  {
   "cell_type": "markdown",
   "metadata": {},
   "source": [
    "Another simple solution"
   ]
  },
  {
   "cell_type": "code",
   "execution_count": 10,
   "metadata": {},
   "outputs": [],
   "source": [
    "import cv2\n",
    "import numpy as np\n",
    "import math\n",
    "import datetime\n",
    "\n",
    "img = np.zeros((800, 800, 3), np.uint8)\n",
    "centerimg_x=int(800/2)\n",
    "centerimg_y=int(800/2)\n",
    "\n",
    "cv2.circle(img, ( centerimg_x , centerimg_y ), 200, (255,0,0), 3)\n",
    "\n",
    "for i in range(1,360,6):\n",
    "    cv2.circle(img, ( int((centerimg_x+190*math.cos(math.radians(i)))),int((centerimg_y+190*math.sin(math.radians(i)))) ), 3 , (255,255,255), 1)\n",
    "for i in range(1,360,30): \n",
    "    cv2.circle(img, ( int((centerimg_x+200*math.cos(math.radians(i)))),int((centerimg_y+200*math.sin(math.radians(i)))) ), 4 , (255,255,0), 2)\n",
    "\n",
    "\n",
    "while 1: \n",
    "    img[0:120,0:330]=0\n",
    "\n",
    "    now = datetime.datetime.now()\n",
    "\n",
    "    cv2.putText(img, f'Data : {now.date()}', (5, 50), cv2.FONT_HERSHEY_SIMPLEX, 1, (0, 255, 255), 2, cv2.FILLED)\n",
    "    cv2.putText(img, f'Time :{now.strftime(\"%H:%M:%S\")}', (5, 100), cv2.FONT_HERSHEY_SIMPLEX, 1, (0, 255, 255), 2, cv2.FILLED)  \n",
    "    \n",
    "    cv2.circle(img, ( centerimg_x , centerimg_y ), 185, (0,0,0), -1)\n",
    "\n",
    "    cv2.circle(img, ( centerimg_x , centerimg_y ), 5, (255,255,255), -1)  \n",
    "    cv2.line(img,( centerimg_x , centerimg_y ),( int((centerimg_x+150*math.cos(math.radians((now.second*6)-90)))),int((centerimg_y+150*math.sin(math.radians((now.second*6)-90))))),(255,255,0),1)\n",
    "    cv2.line(img,( centerimg_x , centerimg_y ),( int((centerimg_x+130*math.cos(math.radians((now.minute*6)-90)))),int((centerimg_y+130*math.sin(math.radians((now.minute*6)-90))))),(0,200,100),2)\n",
    "    cv2.line(img,( centerimg_x , centerimg_y ),( int((centerimg_x+120*math.cos(math.radians((now.hour*30)-90)))),int((centerimg_y+120*math.sin(math.radians((now.hour*30)-90)))) ),(0,90,70),3)\n",
    "    \n",
    "    cv2.imshow(\"image\",img[:,:,::-1])\n",
    "\n",
    "    k = cv2.waitKey(1)\n",
    "    if k == ord('q'):\n",
    "        break\n",
    "            \n",
    "\n",
    "cv2.destroyAllWindows()"
   ]
  },
  {
   "cell_type": "code",
   "execution_count": null,
   "metadata": {},
   "outputs": [],
   "source": []
  }
 ],
 "metadata": {
  "kernelspec": {
   "display_name": "Python 3.10.4 64-bit",
   "language": "python",
   "name": "python3"
  },
  "language_info": {
   "name": "python",
   "version": "3.10.4"
  },
  "orig_nbformat": 4,
  "vscode": {
   "interpreter": {
    "hash": "ca3c435dd71717792133cbb6b54c9cef508a8c1782cd772faba04877aee171ae"
   }
  }
 },
 "nbformat": 4,
 "nbformat_minor": 2
}
